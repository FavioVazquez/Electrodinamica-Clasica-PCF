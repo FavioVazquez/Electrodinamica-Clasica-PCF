{
 "cells": [
  {
   "cell_type": "code",
   "execution_count": 1,
   "metadata": {
    "collapsed": true
   },
   "outputs": [],
   "source": [
    "from __future__ import division\n",
    "from sympy import *\n",
    "q, l = symbols('q l')\n",
    "init_printing()"
   ]
  },
  {
   "cell_type": "code",
   "execution_count": 2,
   "metadata": {
    "collapsed": false
   },
   "outputs": [
    {
     "data": {
      "image/png": "[encoded data removed]",
      "text/latex": [
       "$$\\left[\\begin{matrix}0 & - 3 l^{2} q & 0\\\\- 3 l^{2} q & 0 & 0\\\\0 & 0 & 0\\end{matrix}\\right]$$"
      ],
      "text/plain": [
       "⎡             2     ⎤\n",
       "⎢   0     -3⋅l ⋅q  0⎥\n",
       "⎢                   ⎥\n",
       "⎢    2              ⎥\n",
       "⎢-3⋅l ⋅q     0     0⎥\n",
       "⎢                   ⎥\n",
       "⎣   0        0     0⎦"
      ]
     },
     "execution_count": 2,
     "metadata": {},
     "output_type": "execute_result"
    }
   ],
   "source": [
    "Q = Matrix([[0, -3*q*(l**2), 0], [-3*q*(l**2), 0, 0],\n",
    "            [0, 0, 0]])\n",
    "Q"
   ]
  },
  {
   "cell_type": "code",
   "execution_count": 6,
   "metadata": {
    "collapsed": false
   },
   "outputs": [],
   "source": [
    "UQ, Qdiag = Q.diagonalize()"
   ]
  },
  {
   "cell_type": "code",
   "execution_count": 7,
   "metadata": {
    "collapsed": false
   },
   "outputs": [
    {
     "data": {
      "image/png": "[encoded data removed]",
      "text/latex": [
       "$$\\left ( \\left[\\begin{matrix}0 & 1 & -1\\\\0 & 1 & 1\\\\1 & 0 & 0\\end{matrix}\\right], \\quad \\left[\\begin{matrix}0 & 0 & 0\\\\0 & - 3 l^{2} q & 0\\\\0 & 0 & 3 l^{2} q\\end{matrix}\\right]\\right )$$"
      ],
      "text/plain": [
       "⎛⎡0  1  -1⎤, ⎡0     0       0   ⎤⎞\n",
       "⎜⎢        ⎥  ⎢                  ⎥⎟\n",
       "⎜⎢0  1  1 ⎥  ⎢       2          ⎥⎟\n",
       "⎜⎢        ⎥  ⎢0  -3⋅l ⋅q    0   ⎥⎟\n",
       "⎜⎣1  0  0 ⎦  ⎢                  ⎥⎟\n",
       "⎜            ⎢               2  ⎥⎟\n",
       "⎝            ⎣0     0     3⋅l ⋅q⎦⎠"
      ]
     },
     "execution_count": 7,
     "metadata": {},
     "output_type": "execute_result"
    }
   ],
   "source": [
    "UQ, Qdiag"
   ]
  },
  {
   "cell_type": "code",
   "execution_count": 12,
   "metadata": {
    "collapsed": false
   },
   "outputs": [
    {
     "data": {
      "image/png": "[encoded data removed]",
      "text/latex": [
       "$$\\left[\\begin{matrix}0 & 0 & 0\\\\0 & - 3 l^{2} q & 0\\\\0 & 0 & 3 l^{2} q\\end{matrix}\\right]$$"
      ],
      "text/plain": [
       "⎡0     0       0   ⎤\n",
       "⎢                  ⎥\n",
       "⎢       2          ⎥\n",
       "⎢0  -3⋅l ⋅q    0   ⎥\n",
       "⎢                  ⎥\n",
       "⎢               2  ⎥\n",
       "⎣0     0     3⋅l ⋅q⎦"
      ]
     },
     "execution_count": 12,
     "metadata": {},
     "output_type": "execute_result"
    }
   ],
   "source": [
    "UQ.inv()*Q*UQ"
   ]
  },
  {
   "cell_type": "code",
   "execution_count": 13,
   "metadata": {
    "collapsed": false
   },
   "outputs": [
    {
     "data": {
      "image/png": "[encoded data removed]",
      "text/latex": [
       "$$\\left[\\begin{matrix}0 & 0 & 1\\\\\\frac{1}{2} & \\frac{1}{2} & 0\\\\- \\frac{1}{2} & \\frac{1}{2} & 0\\end{matrix}\\right]$$"
      ],
      "text/plain": [
       "⎡ 0     0   1⎤\n",
       "⎢            ⎥\n",
       "⎢1/2   1/2  0⎥\n",
       "⎢            ⎥\n",
       "⎣-1/2  1/2  0⎦"
      ]
     },
     "execution_count": 13,
     "metadata": {},
     "output_type": "execute_result"
    }
   ],
   "source": [
    "UQ.inv()"
   ]
  }
 ],
 "metadata": {
  "kernelspec": {
   "display_name": "Python 3",
   "language": "python",
   "name": "python3"
  },
  "language_info": {
   "codemirror_mode": {
    "name": "ipython",
    "version": 3
   },
   "file_extension": ".py",
   "mimetype": "text/x-python",
   "name": "python",
   "nbconvert_exporter": "python",
   "pygments_lexer": "ipython3",
   "version": "3.4.0"
  }
 },
 "nbformat": 4,
 "nbformat_minor": 0
}
